{
 "cells": [
  {
   "cell_type": "code",
   "execution_count": null,
   "id": "e073af90",
   "metadata": {},
   "outputs": [
    {
     "name": "stdout",
     "output_type": "stream",
     "text": [
      "Snake: 2\n",
      "Snake: 3\n",
      "Snake: 4\n",
      "Snake: 5\n"
     ]
    }
   ],
   "source": [
    "from random import randrange\n",
    "from freegames import vector, square\n",
    "from turtle import *\n",
    "\n",
    "food = vector(0, 0)\n",
    "snake = [vector(10, 0)]\n",
    "aim = vector(0, -10)\n",
    "\n",
    "def change(x, y):\n",
    "    \"Change snake direction.\"\n",
    "    aim.x = x\n",
    "    aim.y = y\n",
    "\n",
    "def inside(head):\n",
    "    \"Return True if head inside boundaries.\"\n",
    "    return -200 < head.x < 190 and -200 < head.y < 190\n",
    "\n",
    "def move():\n",
    "    \"Move snake forward one segment.\"\n",
    "    head = snake[-1].copy()\n",
    "    head.move(aim)\n",
    "\n",
    "    if not inside(head) or head in snake:\n",
    "        square(head.x, head.y, 9, 'red')\n",
    "        update()\n",
    "        return\n",
    "\n",
    "    snake.append(head)\n",
    "\n",
    "    if head == food:\n",
    "        print('Snake:', len(snake))\n",
    "        food.x = randrange(-10, 10) * 10\n",
    "        food.y = randrange(-10, 10) * 10\n",
    "    else:\n",
    "        snake.pop(0)\n",
    "\n",
    "    clear()\n",
    "\n",
    "    for body in snake:\n",
    "        square(body.x, body.y, 9, 'blue')\n",
    "\n",
    "    square(food.x, food.y, 9, 'yellow')\n",
    "    update()\n",
    "    ontimer(move, 50)\n",
    "\n",
    "setup(500, 500, 490, 0)\n",
    "hideturtle()\n",
    "tracer(False)\n",
    "listen()\n",
    "onkey(lambda: change(10, 0), 'Right')\n",
    "onkey(lambda: change(-10, 0), 'Left')\n",
    "onkey(lambda: change(0, 10), 'Up')\n",
    "onkey(lambda: change(0, -10), 'Down')\n",
    "move()\n",
    "done()"
   ]
  }
 ],
 "metadata": {
  "kernelspec": {
   "display_name": "Python 3 (ipykernel)",
   "language": "python",
   "name": "python3"
  },
  "language_info": {
   "codemirror_mode": {
    "name": "ipython",
    "version": 3
   },
   "file_extension": ".py",
   "mimetype": "text/x-python",
   "name": "python",
   "nbconvert_exporter": "python",
   "pygments_lexer": "ipython3",
   "version": "3.9.7"
  }
 },
 "nbformat": 4,
 "nbformat_minor": 5
}
